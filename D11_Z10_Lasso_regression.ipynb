{
 "cells": [
  {
   "cell_type": "markdown",
   "metadata": {},
   "source": [
    "# Lasso Regression"
   ]
  },
  {
   "cell_type": "code",
   "execution_count": 1,
   "metadata": {
    "collapsed": false
   },
   "outputs": [],
   "source": [
    "import numpy as np\n",
    "import matplotlib.pyplot as plt\n",
    "import matplotlib.pyplot as plt\n",
    "from sklearn import linear_model\n",
    "import scipy.stats as stats\n",
    "from sklearn.linear_model import Ridge\n",
    "from sklearn.preprocessing import PolynomialFeatures\n",
    "from sklearn.pipeline import make_pipeline\n",
    "from sklearn import model_selection\n",
    "from sklearn.model_selection import GridSearchCV"
   ]
  },
  {
   "cell_type": "markdown",
   "metadata": {},
   "source": [
    "Rozważmy następujący zbiór punktów:"
   ]
  },
  {
   "cell_type": "code",
   "execution_count": 2,
   "metadata": {
    "collapsed": false
   },
   "outputs": [],
   "source": [
    "f = lambda x: ((x*2-1)*(x**2-2)*(x-2)+3)\n",
    "x = stats.uniform(0,3).rvs(100)\n",
    "y = f(x) + stats.norm(0,1).rvs(len(x))\n",
    "x=np.vstack(x)"
   ]
  },
  {
   "cell_type": "markdown",
   "metadata": {},
   "source": [
    "# Zadanie \n",
    "Proszę wykonać regresję (Lasso Regression) na powyższym zbiorze danych dobierając optymalny parametr $\\alpha$. "
   ]
  },
  {
   "cell_type": "code",
   "execution_count": 3,
   "metadata": {
    "collapsed": true
   },
   "outputs": [],
   "source": [
    "plt.style.use(\"seaborn-white\")"
   ]
  },
  {
   "cell_type": "code",
   "execution_count": 4,
   "metadata": {
    "collapsed": false
   },
   "outputs": [
    {
     "data": {
      "image/png": "[encoded data removed]",
      "text/plain": [
       "<matplotlib.figure.Figure at 0x7f69202fbd68>"
      ]
     },
     "metadata": {},
     "output_type": "display_data"
    }
   ],
   "source": [
    "clf = linear_model.LassoCV(alphas=[1.0,10.0,20.0])\n",
    "clf.fit(x, y) \n",
    "\n",
    "x_plot = np.vstack(np.linspace(0, 3, 100))\n",
    "plt.plot(x_plot, clf.predict(x_plot), color='blue',linewidth=3)\n",
    "plt.plot(x, y, 'ok');\n",
    "plt.show()"
   ]
  },
  {
   "cell_type": "markdown",
   "metadata": {},
   "source": [
    "# Zadanie \n",
    "Proszę wykonać regresję (Lasso Regression) oraz klasyczną regresję z różnym stopniem wielomianu oraz optymalnym parametrem $\\alpha$ . "
   ]
  },
  {
   "cell_type": "code",
   "execution_count": 5,
   "metadata": {
    "collapsed": false
   },
   "outputs": [],
   "source": [
    "model20_linear = make_pipeline(PolynomialFeatures(20),linear_model.LinearRegression())\n",
    "model20_ridge = make_pipeline(PolynomialFeatures(20),linear_model.Ridge(alpha=10.0))\n",
    "model20_lasso = make_pipeline(PolynomialFeatures(20),linear_model.Lasso(alpha=10.0))\n",
    "\n",
    "seed = 123\n",
    "fold = model_selection.KFold(n_splits=4,shuffle=True,random_state=seed)"
   ]
  },
  {
   "cell_type": "code",
   "execution_count": 6,
   "metadata": {
    "collapsed": false
   },
   "outputs": [
    {
     "name": "stdout",
     "output_type": "stream",
     "text": [
      "[ 0.96079287 -3.55401293  0.97432356  0.9869418 ]\n",
      "[ 0.96038847  0.81419641  0.9713233   0.97823017]\n",
      "[ 0.95100526  0.97895948  0.96842461  0.97692426]\n"
     ]
    },
    {
     "name": "stderr",
     "output_type": "stream",
     "text": [
      "/home/kodolamacz/anaconda3/lib/python3.6/site-packages/sklearn/linear_model/coordinate_descent.py:484: ConvergenceWarning: Objective did not converge. You might want to increase the number of iterations. Fitting data with very small alpha may cause precision problems.\n",
      "  ConvergenceWarning)\n",
      "/home/kodolamacz/anaconda3/lib/python3.6/site-packages/sklearn/linear_model/coordinate_descent.py:484: ConvergenceWarning: Objective did not converge. You might want to increase the number of iterations. Fitting data with very small alpha may cause precision problems.\n",
      "  ConvergenceWarning)\n",
      "/home/kodolamacz/anaconda3/lib/python3.6/site-packages/sklearn/linear_model/coordinate_descent.py:484: ConvergenceWarning: Objective did not converge. You might want to increase the number of iterations. Fitting data with very small alpha may cause precision problems.\n",
      "  ConvergenceWarning)\n",
      "/home/kodolamacz/anaconda3/lib/python3.6/site-packages/sklearn/linear_model/coordinate_descent.py:484: ConvergenceWarning: Objective did not converge. You might want to increase the number of iterations. Fitting data with very small alpha may cause precision problems.\n",
      "  ConvergenceWarning)\n"
     ]
    }
   ],
   "source": [
    "print(model_selection.cross_val_score(model20_linear,x,y,cv=fold))\n",
    "print(model_selection.cross_val_score(model20_ridge,x,y,cv=fold))\n",
    "print(model_selection.cross_val_score(model20_lasso,x,y,cv=fold))"
   ]
  },
  {
   "cell_type": "markdown",
   "metadata": {
    "collapsed": false
   },
   "source": [
    "## Lasso versus Ridge regression"
   ]
  },
  {
   "cell_type": "code",
   "execution_count": 17,
   "metadata": {
    "collapsed": false
   },
   "outputs": [
    {
     "name": "stderr",
     "output_type": "stream",
     "text": [
      "/home/kodolamacz/anaconda3/lib/python3.6/site-packages/sklearn/linear_model/coordinate_descent.py:484: ConvergenceWarning: Objective did not converge. You might want to increase the number of iterations. Fitting data with very small alpha may cause precision problems.\n",
      "  ConvergenceWarning)\n",
      "/home/kodolamacz/anaconda3/lib/python3.6/site-packages/sklearn/linear_model/coordinate_descent.py:484: ConvergenceWarning: Objective did not converge. You might want to increase the number of iterations. Fitting data with very small alpha may cause precision problems.\n",
      "  ConvergenceWarning)\n",
      "/home/kodolamacz/anaconda3/lib/python3.6/site-packages/sklearn/linear_model/coordinate_descent.py:484: ConvergenceWarning: Objective did not converge. You might want to increase the number of iterations. Fitting data with very small alpha may cause precision problems.\n",
      "  ConvergenceWarning)\n",
      "/home/kodolamacz/anaconda3/lib/python3.6/site-packages/sklearn/linear_model/coordinate_descent.py:484: ConvergenceWarning: Objective did not converge. You might want to increase the number of iterations. Fitting data with very small alpha may cause precision problems.\n",
      "  ConvergenceWarning)\n",
      "/home/kodolamacz/anaconda3/lib/python3.6/site-packages/sklearn/linear_model/coordinate_descent.py:484: ConvergenceWarning: Objective did not converge. You might want to increase the number of iterations. Fitting data with very small alpha may cause precision problems.\n",
      "  ConvergenceWarning)\n",
      "/home/kodolamacz/anaconda3/lib/python3.6/site-packages/sklearn/linear_model/coordinate_descent.py:484: ConvergenceWarning: Objective did not converge. You might want to increase the number of iterations. Fitting data with very small alpha may cause precision problems.\n",
      "  ConvergenceWarning)\n",
      "/home/kodolamacz/anaconda3/lib/python3.6/site-packages/sklearn/linear_model/coordinate_descent.py:484: ConvergenceWarning: Objective did not converge. You might want to increase the number of iterations. Fitting data with very small alpha may cause precision problems.\n",
      "  ConvergenceWarning)\n",
      "/home/kodolamacz/anaconda3/lib/python3.6/site-packages/sklearn/linear_model/coordinate_descent.py:484: ConvergenceWarning: Objective did not converge. You might want to increase the number of iterations. Fitting data with very small alpha may cause precision problems.\n",
      "  ConvergenceWarning)\n",
      "/home/kodolamacz/anaconda3/lib/python3.6/site-packages/sklearn/linear_model/coordinate_descent.py:484: ConvergenceWarning: Objective did not converge. You might want to increase the number of iterations. Fitting data with very small alpha may cause precision problems.\n",
      "  ConvergenceWarning)\n",
      "/home/kodolamacz/anaconda3/lib/python3.6/site-packages/sklearn/linear_model/coordinate_descent.py:484: ConvergenceWarning: Objective did not converge. You might want to increase the number of iterations. Fitting data with very small alpha may cause precision problems.\n",
      "  ConvergenceWarning)\n",
      "/home/kodolamacz/anaconda3/lib/python3.6/site-packages/sklearn/linear_model/coordinate_descent.py:484: ConvergenceWarning: Objective did not converge. You might want to increase the number of iterations. Fitting data with very small alpha may cause precision problems.\n",
      "  ConvergenceWarning)\n",
      "/home/kodolamacz/anaconda3/lib/python3.6/site-packages/sklearn/linear_model/coordinate_descent.py:484: ConvergenceWarning: Objective did not converge. You might want to increase the number of iterations. Fitting data with very small alpha may cause precision problems.\n",
      "  ConvergenceWarning)\n",
      "/home/kodolamacz/anaconda3/lib/python3.6/site-packages/sklearn/linear_model/coordinate_descent.py:484: ConvergenceWarning: Objective did not converge. You might want to increase the number of iterations. Fitting data with very small alpha may cause precision problems.\n",
      "  ConvergenceWarning)\n",
      "/home/kodolamacz/anaconda3/lib/python3.6/site-packages/sklearn/linear_model/coordinate_descent.py:484: ConvergenceWarning: Objective did not converge. You might want to increase the number of iterations. Fitting data with very small alpha may cause precision problems.\n",
      "  ConvergenceWarning)\n",
      "/home/kodolamacz/anaconda3/lib/python3.6/site-packages/sklearn/linear_model/coordinate_descent.py:484: ConvergenceWarning: Objective did not converge. You might want to increase the number of iterations. Fitting data with very small alpha may cause precision problems.\n",
      "  ConvergenceWarning)\n",
      "/home/kodolamacz/anaconda3/lib/python3.6/site-packages/sklearn/linear_model/coordinate_descent.py:484: ConvergenceWarning: Objective did not converge. You might want to increase the number of iterations. Fitting data with very small alpha may cause precision problems.\n",
      "  ConvergenceWarning)\n",
      "/home/kodolamacz/anaconda3/lib/python3.6/site-packages/sklearn/linear_model/coordinate_descent.py:484: ConvergenceWarning: Objective did not converge. You might want to increase the number of iterations. Fitting data with very small alpha may cause precision problems.\n",
      "  ConvergenceWarning)\n",
      "/home/kodolamacz/anaconda3/lib/python3.6/site-packages/sklearn/linear_model/coordinate_descent.py:484: ConvergenceWarning: Objective did not converge. You might want to increase the number of iterations. Fitting data with very small alpha may cause precision problems.\n",
      "  ConvergenceWarning)\n",
      "/home/kodolamacz/anaconda3/lib/python3.6/site-packages/sklearn/linear_model/coordinate_descent.py:484: ConvergenceWarning: Objective did not converge. You might want to increase the number of iterations. Fitting data with very small alpha may cause precision problems.\n",
      "  ConvergenceWarning)\n",
      "/home/kodolamacz/anaconda3/lib/python3.6/site-packages/sklearn/linear_model/coordinate_descent.py:484: ConvergenceWarning: Objective did not converge. You might want to increase the number of iterations. Fitting data with very small alpha may cause precision problems.\n",
      "  ConvergenceWarning)\n",
      "/home/kodolamacz/anaconda3/lib/python3.6/site-packages/sklearn/linear_model/coordinate_descent.py:484: ConvergenceWarning: Objective did not converge. You might want to increase the number of iterations. Fitting data with very small alpha may cause precision problems.\n",
      "  ConvergenceWarning)\n",
      "/home/kodolamacz/anaconda3/lib/python3.6/site-packages/sklearn/linear_model/coordinate_descent.py:484: ConvergenceWarning: Objective did not converge. You might want to increase the number of iterations. Fitting data with very small alpha may cause precision problems.\n",
      "  ConvergenceWarning)\n",
      "/home/kodolamacz/anaconda3/lib/python3.6/site-packages/sklearn/linear_model/coordinate_descent.py:484: ConvergenceWarning: Objective did not converge. You might want to increase the number of iterations. Fitting data with very small alpha may cause precision problems.\n",
      "  ConvergenceWarning)\n",
      "/home/kodolamacz/anaconda3/lib/python3.6/site-packages/sklearn/linear_model/coordinate_descent.py:484: ConvergenceWarning: Objective did not converge. You might want to increase the number of iterations. Fitting data with very small alpha may cause precision problems.\n",
      "  ConvergenceWarning)\n",
      "/home/kodolamacz/anaconda3/lib/python3.6/site-packages/sklearn/linear_model/coordinate_descent.py:484: ConvergenceWarning: Objective did not converge. You might want to increase the number of iterations. Fitting data with very small alpha may cause precision problems.\n",
      "  ConvergenceWarning)\n",
      "/home/kodolamacz/anaconda3/lib/python3.6/site-packages/sklearn/linear_model/coordinate_descent.py:484: ConvergenceWarning: Objective did not converge. You might want to increase the number of iterations. Fitting data with very small alpha may cause precision problems.\n",
      "  ConvergenceWarning)\n"
     ]
    },
    {
     "data": {
      "text/plain": [
       "GridSearchCV(cv=KFold(n_splits=4, random_state=123, shuffle=True),\n",
       "       error_score='raise',\n",
       "       estimator=Pipeline(steps=[('polynomialfeatures', PolynomialFeatures(degree=1, include_bias=True, interaction_only=False)), ('lasso', Lasso(alpha=0.2, copy_X=True, fit_intercept=True, max_iter=1000,\n",
       "   normalize=False, positive=False, precompute=False, random_state=None,\n",
       "   selection='cyclic', tol=0.0001, warm_start=False))]),\n",
       "       fit_params={}, iid=True, n_jobs=1,\n",
       "       param_grid={'polynomialfeatures__degree': [1, 2, 3, 4, 5, 6, 7], 'lasso__alpha': [0.5, 1.0, 2.0, 5.0, 10.0]},\n",
       "       pre_dispatch='2*n_jobs', refit=True, return_train_score=True,\n",
       "       scoring=None, verbose=0)"
      ]
     },
     "execution_count": 17,
     "metadata": {},
     "output_type": "execute_result"
    }
   ],
   "source": [
    "grid_lasso = GridSearchCV(make_pipeline(PolynomialFeatures(degree=1),linear_model.Lasso(alpha=0.2)),\n",
    "                   param_grid = {'polynomialfeatures__degree':[1,2,3,4,5,6,7],\n",
    "                                'lasso__alpha':[0.5,1.0,2.0,5.0,10.0]},\n",
    "                   cv=fold,\n",
    "                   refit=True)\n",
    "grid_lasso.fit(x,y)"
   ]
  },
  {
   "cell_type": "code",
   "execution_count": 18,
   "metadata": {
    "collapsed": false
   },
   "outputs": [
    {
     "data": {
      "text/plain": [
       "{'lasso__alpha': 1.0, 'polynomialfeatures__degree': 7}"
      ]
     },
     "execution_count": 18,
     "metadata": {},
     "output_type": "execute_result"
    }
   ],
   "source": [
    "grid_lasso.best_params_"
   ]
  },
  {
   "cell_type": "code",
   "execution_count": 19,
   "metadata": {
    "collapsed": false
   },
   "outputs": [
    {
     "data": {
      "text/plain": [
       "0.96734875504493179"
      ]
     },
     "execution_count": 19,
     "metadata": {},
     "output_type": "execute_result"
    }
   ],
   "source": [
    "grid_lasso.best_score_"
   ]
  },
  {
   "cell_type": "code",
   "execution_count": 66,
   "metadata": {
    "collapsed": false
   },
   "outputs": [
    {
     "name": "stderr",
     "output_type": "stream",
     "text": [
      "/home/kodolamacz/anaconda3/lib/python3.6/site-packages/sklearn/model_selection/_search.py:667: DeprecationWarning: The grid_scores_ attribute was deprecated in version 0.18 in favor of the more elaborate cv_results_ attribute. The grid_scores_ attribute will not be available from 0.20\n",
      "  DeprecationWarning)\n"
     ]
    },
    {
     "data": {
      "text/plain": [
       "[mean: 0.49862, std: 0.09819, params: {'lasso__alpha': 0.5, 'polynomialfeatures__degree': 1},\n",
       " mean: 0.65081, std: 0.11044, params: {'lasso__alpha': 0.5, 'polynomialfeatures__degree': 2},\n",
       " mean: 0.84907, std: 0.06131, params: {'lasso__alpha': 0.5, 'polynomialfeatures__degree': 3},\n",
       " mean: 0.93702, std: 0.01742, params: {'lasso__alpha': 0.5, 'polynomialfeatures__degree': 4},\n",
       " mean: 0.96076, std: 0.01146, params: {'lasso__alpha': 0.5, 'polynomialfeatures__degree': 5},\n",
       " mean: 0.96711, std: 0.01125, params: {'lasso__alpha': 0.5, 'polynomialfeatures__degree': 6},\n",
       " mean: 0.96733, std: 0.01020, params: {'lasso__alpha': 0.5, 'polynomialfeatures__degree': 7},\n",
       " mean: 0.48933, std: 0.08746, params: {'lasso__alpha': 1.0, 'polynomialfeatures__degree': 1},\n",
       " mean: 0.65088, std: 0.10601, params: {'lasso__alpha': 1.0, 'polynomialfeatures__degree': 2},\n",
       " mean: 0.76807, std: 0.08848, params: {'lasso__alpha': 1.0, 'polynomialfeatures__degree': 3},\n",
       " mean: 0.91053, std: 0.03624, params: {'lasso__alpha': 1.0, 'polynomialfeatures__degree': 4},\n",
       " mean: 0.95749, std: 0.01138, params: {'lasso__alpha': 1.0, 'polynomialfeatures__degree': 5},\n",
       " mean: 0.96635, std: 0.01041, params: {'lasso__alpha': 1.0, 'polynomialfeatures__degree': 6},\n",
       " mean: 0.96735, std: 0.00982, params: {'lasso__alpha': 1.0, 'polynomialfeatures__degree': 7},\n",
       " mean: 0.43530, std: 0.07582, params: {'lasso__alpha': 2.0, 'polynomialfeatures__degree': 1},\n",
       " mean: 0.64778, std: 0.09812, params: {'lasso__alpha': 2.0, 'polynomialfeatures__degree': 2},\n",
       " mean: 0.76640, std: 0.08468, params: {'lasso__alpha': 2.0, 'polynomialfeatures__degree': 3},\n",
       " mean: 0.85086, std: 0.05798, params: {'lasso__alpha': 2.0, 'polynomialfeatures__degree': 4},\n",
       " mean: 0.93660, std: 0.02336, params: {'lasso__alpha': 2.0, 'polynomialfeatures__degree': 5},\n",
       " mean: 0.96258, std: 0.01003, params: {'lasso__alpha': 2.0, 'polynomialfeatures__degree': 6},\n",
       " mean: 0.96680, std: 0.00971, params: {'lasso__alpha': 2.0, 'polynomialfeatures__degree': 7},\n",
       " mean: 0.00429, std: 0.02369, params: {'lasso__alpha': 5.0, 'polynomialfeatures__degree': 1},\n",
       " mean: 0.61255, std: 0.08170, params: {'lasso__alpha': 5.0, 'polynomialfeatures__degree': 2},\n",
       " mean: 0.76326, std: 0.07966, params: {'lasso__alpha': 5.0, 'polynomialfeatures__degree': 3},\n",
       " mean: 0.84966, std: 0.05601, params: {'lasso__alpha': 5.0, 'polynomialfeatures__degree': 4},\n",
       " mean: 0.90601, std: 0.03302, params: {'lasso__alpha': 5.0, 'polynomialfeatures__degree': 5},\n",
       " mean: 0.94326, std: 0.01966, params: {'lasso__alpha': 5.0, 'polynomialfeatures__degree': 6},\n",
       " mean: 0.96229, std: 0.01043, params: {'lasso__alpha': 5.0, 'polynomialfeatures__degree': 7},\n",
       " mean: -0.01759, std: 0.01656, params: {'lasso__alpha': 10.0, 'polynomialfeatures__degree': 1},\n",
       " mean: 0.46733, std: 0.07051, params: {'lasso__alpha': 10.0, 'polynomialfeatures__degree': 2},\n",
       " mean: 0.74786, std: 0.07328, params: {'lasso__alpha': 10.0, 'polynomialfeatures__degree': 3},\n",
       " mean: 0.84808, std: 0.05473, params: {'lasso__alpha': 10.0, 'polynomialfeatures__degree': 4},\n",
       " mean: 0.90587, std: 0.03283, params: {'lasso__alpha': 10.0, 'polynomialfeatures__degree': 5},\n",
       " mean: 0.94084, std: 0.01834, params: {'lasso__alpha': 10.0, 'polynomialfeatures__degree': 6},\n",
       " mean: 0.95944, std: 0.01180, params: {'lasso__alpha': 10.0, 'polynomialfeatures__degree': 7}]"
      ]
     },
     "execution_count": 66,
     "metadata": {},
     "output_type": "execute_result"
    }
   ],
   "source": [
    "grid_lasso.grid_scores_"
   ]
  },
  {
   "cell_type": "code",
   "execution_count": 67,
   "metadata": {
    "collapsed": false
   },
   "outputs": [
    {
     "data": {
      "text/plain": [
       "GridSearchCV(cv=KFold(n_splits=4, random_state=123, shuffle=True),\n",
       "       error_score='raise',\n",
       "       estimator=Pipeline(steps=[('polynomialfeatures', PolynomialFeatures(degree=1, include_bias=True, interaction_only=False)), ('ridge', Ridge(alpha=0.2, copy_X=True, fit_intercept=True, max_iter=None,\n",
       "   normalize=False, random_state=None, solver='auto', tol=0.001))]),\n",
       "       fit_params={}, iid=True, n_jobs=1,\n",
       "       param_grid={'polynomialfeatures__degree': [1, 2, 3, 4, 5, 6, 7, 15, 20], 'ridge__alpha': [0.2, 0.5, 1.0, 2.0, 5.0, 10.0]},\n",
       "       pre_dispatch='2*n_jobs', refit=True, return_train_score=True,\n",
       "       scoring=None, verbose=0)"
      ]
     },
     "execution_count": 67,
     "metadata": {},
     "output_type": "execute_result"
    }
   ],
   "source": [
    "grid_ridge = GridSearchCV(make_pipeline(PolynomialFeatures(degree=1),linear_model.Ridge(alpha=0.2)),\n",
    "                   param_grid = {'polynomialfeatures__degree':[1,2,3,4,5,6,7,15,20],\n",
    "                                'ridge__alpha':[0.2,0.5,1.0,2.0,5.0,10.0]},\n",
    "                   cv=fold,\n",
    "                   refit=True)\n",
    "grid_ridge.fit(x,y)"
   ]
  },
  {
   "cell_type": "code",
   "execution_count": 68,
   "metadata": {
    "collapsed": false
   },
   "outputs": [
    {
     "data": {
      "text/plain": [
       "{'polynomialfeatures__degree': 4, 'ridge__alpha': 0.2}"
      ]
     },
     "execution_count": 68,
     "metadata": {},
     "output_type": "execute_result"
    }
   ],
   "source": [
    "grid_ridge.best_params_"
   ]
  },
  {
   "cell_type": "code",
   "execution_count": 69,
   "metadata": {
    "collapsed": false
   },
   "outputs": [
    {
     "data": {
      "text/plain": [
       "0.98253335546742915"
      ]
     },
     "execution_count": 69,
     "metadata": {},
     "output_type": "execute_result"
    }
   ],
   "source": [
    "grid_ridge.best_score_"
   ]
  },
  {
   "cell_type": "code",
   "execution_count": 70,
   "metadata": {
    "collapsed": false
   },
   "outputs": [
    {
     "data": {
      "image/png": "[encoded data removed]",
      "text/plain": [
       "<matplotlib.figure.Figure at 0x7f68efd80b38>"
      ]
     },
     "metadata": {},
     "output_type": "display_data"
    }
   ],
   "source": [
    "x_plt=np.linspace(0,3,200)\n",
    "plt.scatter(x,y),\n",
    "plt.plot(x_plt,grid_lasso.predict(x_plt[:,np.newaxis]),\"r--\",linewidth=3)\n",
    "plt.plot(x_plt,grid_ridge.predict(x_plt[:,np.newaxis]),\"g--\",linewidth=3)\n",
    "plt.show()"
   ]
  },
  {
   "cell_type": "code",
   "execution_count": null,
   "metadata": {
    "collapsed": true
   },
   "outputs": [],
   "source": []
  }
 ],
 "metadata": {
  "kernelspec": {
   "display_name": "Python 3",
   "language": "python",
   "name": "python3"
  },
  "language_info": {
   "codemirror_mode": {
    "name": "ipython",
    "version": 3
   },
   "file_extension": ".py",
   "mimetype": "text/x-python",
   "name": "python",
   "nbconvert_exporter": "python",
   "pygments_lexer": "ipython3",
   "version": "3.6.0"
  }
 },
 "nbformat": 4,
 "nbformat_minor": 2
}
