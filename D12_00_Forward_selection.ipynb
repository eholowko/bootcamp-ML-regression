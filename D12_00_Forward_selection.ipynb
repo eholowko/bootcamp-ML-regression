{
 "cells": [
  {
   "cell_type": "markdown",
   "metadata": {},
   "source": [
    "# Selekcja atrybutów - stepwise"
   ]
  },
  {
   "cell_type": "markdown",
   "metadata": {},
   "source": [
    "### Algorytm (forward)\n",
    "\n",
    "1. Zaczynamy od pustego modelu (0 zmiennych wybranych) i przyjmujemy, że wartość kryterium (np. BIC, AIC): C = Inf\n",
    "2. Szukamy zmiennej, której dodanie do modelu najbardziej zmniejszy kryterium C. \n",
    "   * Jeśli wartość C jest mniejsza od poprzedniej wartości - dodajemy zmienną i kontynuujemy\n",
    "   * Jeśli wartość C dla najlepszego znalezionego w tym kroku modelu nie spadła w stosunku do poprzedniego kroku,\n",
    "     to nie dołączamy zmiennej i kończymy"
   ]
  },
  {
   "cell_type": "code",
   "execution_count": 75,
   "metadata": {
    "collapsed": true
   },
   "outputs": [],
   "source": [
    "import numpy as np\n",
    "import pandas as pd\n",
    "import matplotlib.pyplot as plt\n",
    "from sklearn import linear_model\n",
    "from sklearn.preprocessing import StandardScaler\n",
    "from sklearn import model_selection \n",
    "from sklearn.preprocessing import PolynomialFeatures\n",
    "from sklearn.pipeline import make_pipeline\n",
    "import sklearn.metrics"
   ]
  },
  {
   "cell_type": "code",
   "execution_count": 103,
   "metadata": {
    "collapsed": false
   },
   "outputs": [],
   "source": [
    "def forward_selection(X,y):\n",
    "    (n,p) = X.shape\n",
    "    \n",
    "    #print(n)\n",
    "    #print(p)\n",
    "    \n",
    "    model = linear_model.LinearRegression()\n",
    "    kf = model_selection.KFold(n_splits=5,shuffle=True)\n",
    "    \n",
    "    bic_min = np.inf\n",
    "    i_min = 0\n",
    "    \n",
    "    indexes = []\n",
    "    \n",
    "    #print(bic_min)\n",
    "    \n",
    "    while(i_min >= 0):\n",
    "        \n",
    "        print('bic_min = {}'.format(bic_min))\n",
    "        \n",
    "        if bic_min != np.inf:\n",
    "            indexes.append(i_min)\n",
    "        \n",
    "        print('indexes = {}'.format(indexes))\n",
    "        i_min = -1\n",
    "\n",
    "        for i in range(p):\n",
    "            \n",
    "            if i in indexes:\n",
    "                #print('{} already in list'.format(i))\n",
    "                continue\n",
    "                \n",
    "            indexes_i = indexes.copy()\n",
    "            indexes_i.append(i)\n",
    "\n",
    "            X_i = X.iloc[:,indexes_i]\n",
    "            #print(indexes_i)\n",
    "        \n",
    "            y_pred = model_selection.cross_val_predict(model,X_i,y,cv=kf)\n",
    "            mse = sklearn.metrics.mean_squared_error(y,y_pred)\n",
    "            bic = n * np.log(mse) + p* np.log(n)\n",
    "            \n",
    "            #print('{} : bic = {}'.format(i,bic))\n",
    "            if bic < bic_min:\n",
    "                bic_min = bic\n",
    "                i_min = i\n",
    "\n",
    "\n",
    "    return indexes\n"
   ]
  },
  {
   "cell_type": "markdown",
   "metadata": {},
   "source": [
    "## Test"
   ]
  },
  {
   "cell_type": "code",
   "execution_count": 104,
   "metadata": {
    "collapsed": false
   },
   "outputs": [
    {
     "data": {
      "text/html": [
       "<div>\n",
       "<table border=\"1\" class=\"dataframe\">\n",
       "  <thead>\n",
       "    <tr style=\"text-align: right;\">\n",
       "      <th></th>\n",
       "      <th>fixed acidity</th>\n",
       "      <th>volatile acidity</th>\n",
       "      <th>citric acid</th>\n",
       "      <th>residual sugar</th>\n",
       "      <th>chlorides</th>\n",
       "      <th>free sulfur dioxide</th>\n",
       "      <th>total sulfur dioxide</th>\n",
       "      <th>density</th>\n",
       "      <th>pH</th>\n",
       "      <th>sulphates</th>\n",
       "      <th>alcohol</th>\n",
       "      <th>quality</th>\n",
       "    </tr>\n",
       "  </thead>\n",
       "  <tbody>\n",
       "    <tr>\n",
       "      <th>0</th>\n",
       "      <td>7.4</td>\n",
       "      <td>0.70</td>\n",
       "      <td>0.00</td>\n",
       "      <td>1.9</td>\n",
       "      <td>0.076</td>\n",
       "      <td>11.0</td>\n",
       "      <td>34.0</td>\n",
       "      <td>0.9978</td>\n",
       "      <td>3.51</td>\n",
       "      <td>0.56</td>\n",
       "      <td>9.4</td>\n",
       "      <td>5</td>\n",
       "    </tr>\n",
       "    <tr>\n",
       "      <th>1</th>\n",
       "      <td>7.8</td>\n",
       "      <td>0.88</td>\n",
       "      <td>0.00</td>\n",
       "      <td>2.6</td>\n",
       "      <td>0.098</td>\n",
       "      <td>25.0</td>\n",
       "      <td>67.0</td>\n",
       "      <td>0.9968</td>\n",
       "      <td>3.20</td>\n",
       "      <td>0.68</td>\n",
       "      <td>9.8</td>\n",
       "      <td>5</td>\n",
       "    </tr>\n",
       "    <tr>\n",
       "      <th>2</th>\n",
       "      <td>7.8</td>\n",
       "      <td>0.76</td>\n",
       "      <td>0.04</td>\n",
       "      <td>2.3</td>\n",
       "      <td>0.092</td>\n",
       "      <td>15.0</td>\n",
       "      <td>54.0</td>\n",
       "      <td>0.9970</td>\n",
       "      <td>3.26</td>\n",
       "      <td>0.65</td>\n",
       "      <td>9.8</td>\n",
       "      <td>5</td>\n",
       "    </tr>\n",
       "    <tr>\n",
       "      <th>3</th>\n",
       "      <td>11.2</td>\n",
       "      <td>0.28</td>\n",
       "      <td>0.56</td>\n",
       "      <td>1.9</td>\n",
       "      <td>0.075</td>\n",
       "      <td>17.0</td>\n",
       "      <td>60.0</td>\n",
       "      <td>0.9980</td>\n",
       "      <td>3.16</td>\n",
       "      <td>0.58</td>\n",
       "      <td>9.8</td>\n",
       "      <td>6</td>\n",
       "    </tr>\n",
       "    <tr>\n",
       "      <th>4</th>\n",
       "      <td>7.4</td>\n",
       "      <td>0.70</td>\n",
       "      <td>0.00</td>\n",
       "      <td>1.9</td>\n",
       "      <td>0.076</td>\n",
       "      <td>11.0</td>\n",
       "      <td>34.0</td>\n",
       "      <td>0.9978</td>\n",
       "      <td>3.51</td>\n",
       "      <td>0.56</td>\n",
       "      <td>9.4</td>\n",
       "      <td>5</td>\n",
       "    </tr>\n",
       "  </tbody>\n",
       "</table>\n",
       "</div>"
      ],
      "text/plain": [
       "   fixed acidity  volatile acidity  citric acid  residual sugar  chlorides  \\\n",
       "0            7.4              0.70         0.00             1.9      0.076   \n",
       "1            7.8              0.88         0.00             2.6      0.098   \n",
       "2            7.8              0.76         0.04             2.3      0.092   \n",
       "3           11.2              0.28         0.56             1.9      0.075   \n",
       "4            7.4              0.70         0.00             1.9      0.076   \n",
       "\n",
       "   free sulfur dioxide  total sulfur dioxide  density    pH  sulphates  \\\n",
       "0                 11.0                  34.0   0.9978  3.51       0.56   \n",
       "1                 25.0                  67.0   0.9968  3.20       0.68   \n",
       "2                 15.0                  54.0   0.9970  3.26       0.65   \n",
       "3                 17.0                  60.0   0.9980  3.16       0.58   \n",
       "4                 11.0                  34.0   0.9978  3.51       0.56   \n",
       "\n",
       "   alcohol  quality  \n",
       "0      9.4        5  \n",
       "1      9.8        5  \n",
       "2      9.8        5  \n",
       "3      9.8        6  \n",
       "4      9.4        5  "
      ]
     },
     "execution_count": 104,
     "metadata": {},
     "output_type": "execute_result"
    }
   ],
   "source": [
    "df_adv = pd.read_csv('slack/winequality-red.csv',sep=';')\n",
    "df_adv.head()"
   ]
  },
  {
   "cell_type": "code",
   "execution_count": 105,
   "metadata": {
    "collapsed": true
   },
   "outputs": [],
   "source": [
    "y = df_adv['alcohol']\n",
    "\n",
    "X = df_adv.iloc[:,0:10]"
   ]
  },
  {
   "cell_type": "code",
   "execution_count": 109,
   "metadata": {
    "collapsed": false
   },
   "outputs": [
    {
     "name": "stdout",
     "output_type": "stream",
     "text": [
      "bic_min = inf\n",
      "indexes = []\n",
      "bic_min = -170.71214819551125\n",
      "indexes = [7]\n",
      "bic_min = -476.98627351944987\n",
      "indexes = [7, 0]\n",
      "bic_min = -849.5324406304541\n",
      "indexes = [7, 0, 8]\n",
      "bic_min = -1257.4511747364108\n",
      "indexes = [7, 0, 8, 3]\n",
      "bic_min = -1415.4189071839137\n",
      "indexes = [7, 0, 8, 3, 9]\n",
      "bic_min = -1436.5464206458976\n",
      "indexes = [7, 0, 8, 3, 9, 6]\n",
      "bic_min = -1445.271313903757\n",
      "indexes = [7, 0, 8, 3, 9, 6, 2]\n",
      "bic_min = -1465.3659607089558\n",
      "indexes = [7, 0, 8, 3, 9, 6, 2, 5]\n",
      "Best parameters (8) : Index(['density', 'fixed acidity', 'pH', 'residual sugar', 'sulphates',\n",
      "       'total sulfur dioxide', 'citric acid', 'free sulfur dioxide'],\n",
      "      dtype='object')\n"
     ]
    }
   ],
   "source": [
    "best_indexes = forward_selection(X,y)\n",
    "print(\"Best parameters ({}) : {}\".format(len(best_indexes),df_adv.columns[best_indexes]))"
   ]
  }
 ],
 "metadata": {
  "kernelspec": {
   "display_name": "Python 3",
   "language": "python",
   "name": "python3"
  },
  "language_info": {
   "codemirror_mode": {
    "name": "ipython",
    "version": 3
   },
   "file_extension": ".py",
   "mimetype": "text/x-python",
   "name": "python",
   "nbconvert_exporter": "python",
   "pygments_lexer": "ipython3",
   "version": "3.6.0"
  }
 },
 "nbformat": 4,
 "nbformat_minor": 2
}
