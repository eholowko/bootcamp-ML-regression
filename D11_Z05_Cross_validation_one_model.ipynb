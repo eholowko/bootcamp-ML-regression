{
 "cells": [
  {
   "cell_type": "markdown",
   "metadata": {},
   "source": [
    "# Cross validation"
   ]
  },
  {
   "cell_type": "code",
   "execution_count": 64,
   "metadata": {
    "collapsed": true
   },
   "outputs": [],
   "source": [
    "import numpy as np\n",
    "import pandas as pd\n",
    "import scipy.stats as stats\n",
    "import sklearn.linear_model as lm\n",
    "from sklearn import datasets\n",
    "import matplotlib.pyplot as plt\n",
    "\n",
    "from sklearn.preprocessing import PolynomialFeatures\n",
    "from sklearn.pipeline import make_pipeline\n",
    "\n",
    "from sklearn import  metrics\n",
    "from sklearn.model_selection import KFold, cross_val_score\n",
    "from sklearn.model_selection import cross_val_predict"
   ]
  },
  {
   "cell_type": "markdown",
   "metadata": {},
   "source": [
    "Rozważmy następujący zbiór punktów:"
   ]
  },
  {
   "cell_type": "code",
   "execution_count": 65,
   "metadata": {
    "collapsed": false
   },
   "outputs": [],
   "source": [
    "plt.style.use('seaborn-white')"
   ]
  },
  {
   "cell_type": "code",
   "execution_count": 68,
   "metadata": {
    "collapsed": false
   },
   "outputs": [
    {
     "data": {
      "image/png": "[encoded data removed]",
      "text/plain": [
       "<matplotlib.figure.Figure at 0x7f0f4e7c5710>"
      ]
     },
     "metadata": {},
     "output_type": "display_data"
    }
   ],
   "source": [
    "x = stats.uniform(0,3).rvs(100)\n",
    "f = lambda x: ((x*2-1)*(x**2-2)*(x-2)+3)\n",
    "y = f(x) + stats.norm(0,2).rvs(len(x))\n",
    "plt.plot(x, y, 'ok', ms=10);\n",
    "plt.show()"
   ]
  },
  {
   "cell_type": "code",
   "execution_count": 69,
   "metadata": {
    "collapsed": true
   },
   "outputs": [],
   "source": [
    "x=x[:,np.newaxis]"
   ]
  },
  {
   "cell_type": "markdown",
   "metadata": {},
   "source": [
    "## k-fold (generator indeksów dla podziału na model treningowy i testowy)"
   ]
  },
  {
   "cell_type": "code",
   "execution_count": 73,
   "metadata": {
    "collapsed": false
   },
   "outputs": [
    {
     "data": {
      "text/plain": [
       "4"
      ]
     },
     "execution_count": 73,
     "metadata": {},
     "output_type": "execute_result"
    }
   ],
   "source": [
    "seed = 123 # za każdym razem ten sam podział\n",
    "kf = KFold(n_splits=4,shuffle=True,random_state=seed)#wymiasza indeksy przed podziałem\n",
    "kf.get_n_splits(x)"
   ]
  },
  {
   "cell_type": "code",
   "execution_count": 82,
   "metadata": {
    "collapsed": false
   },
   "outputs": [
    {
     "data": {
      "text/plain": [
       "[(array([ 1,  2,  3,  6,  7,  9, 10, 11, 12, 13, 14, 15, 16, 17, 18, 20, 21,\n",
       "         22, 25, 26, 27, 30, 32, 33, 34, 36, 37, 39, 40, 41, 43, 44, 45, 46,\n",
       "         47, 48, 49, 51, 52, 53, 54, 55, 57, 58, 59, 61, 62, 64, 66, 67, 68,\n",
       "         69, 71, 72, 73, 74, 78, 79, 80, 83, 84, 85, 86, 87, 89, 90, 91, 92,\n",
       "         93, 94, 95, 96, 97, 98, 99]),\n",
       "  array([ 0,  4,  5,  8, 19, 23, 24, 28, 29, 31, 35, 38, 42, 50, 56, 60, 63,\n",
       "         65, 70, 75, 76, 77, 81, 82, 88])),\n",
       " (array([ 0,  2,  3,  4,  5,  6,  7,  8, 10, 13, 15, 16, 17, 18, 19, 22, 23,\n",
       "         24, 25, 26, 27, 28, 29, 30, 31, 32, 34, 35, 36, 38, 39, 40, 42, 43,\n",
       "         44, 45, 46, 47, 48, 49, 50, 51, 52, 55, 56, 57, 58, 60, 61, 63, 64,\n",
       "         65, 66, 67, 68, 70, 71, 72, 73, 75, 76, 77, 78, 80, 81, 82, 83, 86,\n",
       "         88, 92, 93, 94, 96, 98, 99]),\n",
       "  array([ 1,  9, 11, 12, 14, 20, 21, 33, 37, 41, 53, 54, 59, 62, 69, 74, 79,\n",
       "         84, 85, 87, 89, 90, 91, 95, 97])),\n",
       " (array([ 0,  1,  2,  4,  5,  8,  9, 11, 12, 14, 17, 19, 20, 21, 23, 24, 25,\n",
       "         28, 29, 31, 32, 33, 35, 36, 37, 38, 39, 41, 42, 46, 47, 48, 49, 50,\n",
       "         53, 54, 55, 56, 57, 59, 60, 61, 62, 63, 65, 66, 67, 68, 69, 70, 73,\n",
       "         74, 75, 76, 77, 78, 79, 80, 81, 82, 83, 84, 85, 86, 87, 88, 89, 90,\n",
       "         91, 92, 93, 95, 96, 97, 99]),\n",
       "  array([ 3,  6,  7, 10, 13, 15, 16, 18, 22, 26, 27, 30, 34, 40, 43, 44, 45,\n",
       "         51, 52, 58, 64, 71, 72, 94, 98])),\n",
       " (array([ 0,  1,  3,  4,  5,  6,  7,  8,  9, 10, 11, 12, 13, 14, 15, 16, 18,\n",
       "         19, 20, 21, 22, 23, 24, 26, 27, 28, 29, 30, 31, 33, 34, 35, 37, 38,\n",
       "         40, 41, 42, 43, 44, 45, 50, 51, 52, 53, 54, 56, 58, 59, 60, 62, 63,\n",
       "         64, 65, 69, 70, 71, 72, 74, 75, 76, 77, 79, 81, 82, 84, 85, 87, 88,\n",
       "         89, 90, 91, 94, 95, 97, 98]),\n",
       "  array([ 2, 17, 25, 32, 36, 39, 46, 47, 48, 49, 55, 57, 61, 66, 67, 68, 73,\n",
       "         78, 80, 83, 86, 92, 93, 96, 99]))]"
      ]
     },
     "execution_count": 82,
     "metadata": {},
     "output_type": "execute_result"
    }
   ],
   "source": [
    "list(kf.split(x))"
   ]
  },
  {
   "cell_type": "markdown",
   "metadata": {},
   "source": [
    "# cross_val_score"
   ]
  },
  {
   "cell_type": "code",
   "execution_count": 96,
   "metadata": {
    "collapsed": false
   },
   "outputs": [
    {
     "data": {
      "text/plain": [
       "array([[  1.00000000e+00,   1.85042429e+00,   3.42407004e+00],\n",
       "       [  1.00000000e+00,   2.33132170e+00,   5.43506085e+00],\n",
       "       [  1.00000000e+00,   1.40398450e+00,   1.97117249e+00],\n",
       "       [  1.00000000e+00,   2.06602868e+00,   4.26847453e+00],\n",
       "       [  1.00000000e+00,   2.64410475e+00,   6.99128991e+00],\n",
       "       [  1.00000000e+00,   8.83229944e-01,   7.80095134e-01],\n",
       "       [  1.00000000e+00,   2.30648833e+00,   5.31988840e+00],\n",
       "       [  1.00000000e+00,   2.61756634e+00,   6.85165354e+00],\n",
       "       [  1.00000000e+00,   1.69669306e+00,   2.87876732e+00],\n",
       "       [  1.00000000e+00,   2.62635188e+00,   6.89772418e+00],\n",
       "       [  1.00000000e+00,   7.03846136e-01,   4.95399383e-01],\n",
       "       [  1.00000000e+00,   9.65843803e-02,   9.32854251e-03],\n",
       "       [  1.00000000e+00,   3.09300983e-01,   9.56670981e-02],\n",
       "       [  1.00000000e+00,   1.36972321e+00,   1.87614168e+00],\n",
       "       [  1.00000000e+00,   7.08819568e-01,   5.02425180e-01],\n",
       "       [  1.00000000e+00,   2.27609834e-01,   5.18062364e-02],\n",
       "       [  1.00000000e+00,   8.48393107e-01,   7.19770863e-01],\n",
       "       [  1.00000000e+00,   2.03853331e+00,   4.15561806e+00],\n",
       "       [  1.00000000e+00,   4.48604656e-01,   2.01246137e-01],\n",
       "       [  1.00000000e+00,   2.14835176e+00,   4.61541529e+00],\n",
       "       [  1.00000000e+00,   1.16914250e+00,   1.36689418e+00],\n",
       "       [  1.00000000e+00,   2.57759401e+00,   6.64399088e+00],\n",
       "       [  1.00000000e+00,   1.75294589e+00,   3.07281931e+00],\n",
       "       [  1.00000000e+00,   2.42066036e+00,   5.85959658e+00],\n",
       "       [  1.00000000e+00,   1.49391303e+00,   2.23177615e+00],\n",
       "       [  1.00000000e+00,   1.13894921e+00,   1.29720530e+00],\n",
       "       [  1.00000000e+00,   2.13977910e+00,   4.57865462e+00],\n",
       "       [  1.00000000e+00,   2.57520057e+00,   6.63165798e+00],\n",
       "       [  1.00000000e+00,   1.91718417e+00,   3.67559513e+00],\n",
       "       [  1.00000000e+00,   1.58175416e-02,   2.50194622e-04],\n",
       "       [  1.00000000e+00,   1.48256927e-01,   2.19801163e-02],\n",
       "       [  1.00000000e+00,   1.98463042e+00,   3.93875792e+00],\n",
       "       [  1.00000000e+00,   1.90378545e+00,   3.62439902e+00],\n",
       "       [  1.00000000e+00,   1.63633720e+00,   2.67759944e+00],\n",
       "       [  1.00000000e+00,   2.04879538e+00,   4.19756252e+00],\n",
       "       [  1.00000000e+00,   1.73789710e+00,   3.02028634e+00],\n",
       "       [  1.00000000e+00,   1.09081786e+00,   1.18988360e+00],\n",
       "       [  1.00000000e+00,   1.19474660e+00,   1.42741943e+00],\n",
       "       [  1.00000000e+00,   2.12068738e+00,   4.49731496e+00],\n",
       "       [  1.00000000e+00,   2.43716740e+00,   5.93978493e+00],\n",
       "       [  1.00000000e+00,   2.06569466e-01,   4.26709444e-02],\n",
       "       [  1.00000000e+00,   8.94928124e-01,   8.00896347e-01],\n",
       "       [  1.00000000e+00,   2.83121154e+00,   8.01575879e+00],\n",
       "       [  1.00000000e+00,   1.03469264e+00,   1.07058886e+00],\n",
       "       [  1.00000000e+00,   5.59902839e-01,   3.13491189e-01],\n",
       "       [  1.00000000e+00,   2.26238627e+00,   5.11839162e+00],\n",
       "       [  1.00000000e+00,   9.65752229e-02,   9.32677369e-03],\n",
       "       [  1.00000000e+00,   2.89821743e+00,   8.39966428e+00],\n",
       "       [  1.00000000e+00,   1.13892314e+00,   1.29714593e+00],\n",
       "       [  1.00000000e+00,   1.03831587e+00,   1.07809985e+00],\n",
       "       [  1.00000000e+00,   2.54180704e+00,   6.46078304e+00],\n",
       "       [  1.00000000e+00,   1.11856707e+00,   1.25119230e+00],\n",
       "       [  1.00000000e+00,   3.00582674e-01,   9.03499439e-02],\n",
       "       [  1.00000000e+00,   1.03674990e+00,   1.07485036e+00],\n",
       "       [  1.00000000e+00,   2.14321245e+00,   4.59335959e+00],\n",
       "       [  1.00000000e+00,   1.42190530e-01,   2.02181469e-02],\n",
       "       [  1.00000000e+00,   1.46213403e+00,   2.13783593e+00],\n",
       "       [  1.00000000e+00,   8.16634672e-01,   6.66892188e-01],\n",
       "       [  1.00000000e+00,   6.76598530e-01,   4.57785571e-01],\n",
       "       [  1.00000000e+00,   1.70520939e-01,   2.90773905e-02],\n",
       "       [  1.00000000e+00,   9.17817473e-01,   8.42388914e-01],\n",
       "       [  1.00000000e+00,   1.98713647e+00,   3.94871136e+00],\n",
       "       [  1.00000000e+00,   2.75948225e+00,   7.61474229e+00],\n",
       "       [  1.00000000e+00,   2.12698364e+00,   4.52405941e+00],\n",
       "       [  1.00000000e+00,   9.23207785e-01,   8.52312614e-01],\n",
       "       [  1.00000000e+00,   1.14107142e-01,   1.30204399e-02],\n",
       "       [  1.00000000e+00,   8.09669497e-01,   6.55564695e-01],\n",
       "       [  1.00000000e+00,   1.35153416e+00,   1.82664459e+00],\n",
       "       [  1.00000000e+00,   2.45595328e+00,   6.03170654e+00],\n",
       "       [  1.00000000e+00,   2.85997610e+00,   8.17946332e+00],\n",
       "       [  1.00000000e+00,   1.28363989e+00,   1.64773136e+00],\n",
       "       [  1.00000000e+00,   1.45555427e+00,   2.11863823e+00],\n",
       "       [  1.00000000e+00,   2.17805430e+00,   4.74392055e+00],\n",
       "       [  1.00000000e+00,   2.65380218e+00,   7.04266602e+00],\n",
       "       [  1.00000000e+00,   1.78941466e+00,   3.20200481e+00],\n",
       "       [  1.00000000e+00,   1.75842424e+00,   3.09205580e+00],\n",
       "       [  1.00000000e+00,   4.43404788e-01,   1.96607806e-01],\n",
       "       [  1.00000000e+00,   6.32578466e-01,   4.00155516e-01],\n",
       "       [  1.00000000e+00,   1.77367822e+00,   3.14593441e+00],\n",
       "       [  1.00000000e+00,   2.86467128e+00,   8.20634153e+00],\n",
       "       [  1.00000000e+00,   4.48806499e-02,   2.01427273e-03],\n",
       "       [  1.00000000e+00,   1.16573594e+00,   1.35894029e+00],\n",
       "       [  1.00000000e+00,   2.10041293e-01,   4.41173449e-02],\n",
       "       [  1.00000000e+00,   1.95963473e+00,   3.84016829e+00],\n",
       "       [  1.00000000e+00,   1.63775220e+00,   2.68223227e+00],\n",
       "       [  1.00000000e+00,   1.72375288e-01,   2.97132398e-02],\n",
       "       [  1.00000000e+00,   1.01469634e+00,   1.02960866e+00],\n",
       "       [  1.00000000e+00,   1.68703151e+00,   2.84607530e+00],\n",
       "       [  1.00000000e+00,   1.45354222e+00,   2.11278500e+00],\n",
       "       [  1.00000000e+00,   2.02725776e+00,   4.10977402e+00],\n",
       "       [  1.00000000e+00,   2.99211458e+00,   8.95274968e+00],\n",
       "       [  1.00000000e+00,   2.50561466e+00,   6.27810482e+00],\n",
       "       [  1.00000000e+00,   1.61606678e+00,   2.61167183e+00],\n",
       "       [  1.00000000e+00,   2.38701839e-01,   5.69785681e-02],\n",
       "       [  1.00000000e+00,   2.87721333e+00,   8.27835653e+00],\n",
       "       [  1.00000000e+00,   8.92824548e-01,   7.97135674e-01],\n",
       "       [  1.00000000e+00,   9.89413348e-01,   9.78938774e-01],\n",
       "       [  1.00000000e+00,   2.62079128e+00,   6.86854693e+00],\n",
       "       [  1.00000000e+00,   1.36294035e+00,   1.85760640e+00],\n",
       "       [  1.00000000e+00,   9.72306858e-01,   9.45380625e-01]])"
      ]
     },
     "execution_count": 96,
     "metadata": {},
     "output_type": "execute_result"
    }
   ],
   "source": [
    "pf = PolynomialFeatures(2)\n",
    "pf.fit_transform(x)#1,x,x2"
   ]
  },
  {
   "cell_type": "code",
   "execution_count": 49,
   "metadata": {
    "collapsed": true
   },
   "outputs": [],
   "source": [
    "model2 = make_pipeline(PolynomialFeatures(2),lm.LinearRegression())"
   ]
  },
  {
   "cell_type": "code",
   "execution_count": 50,
   "metadata": {
    "collapsed": false
   },
   "outputs": [
    {
     "data": {
      "text/plain": [
       "array([ 0.86275621,  0.85758079,  0.83741382,  0.87615153])"
      ]
     },
     "execution_count": 50,
     "metadata": {},
     "output_type": "execute_result"
    }
   ],
   "source": [
    "cross_val_score(model2, x, y, cv=kf)"
   ]
  },
  {
   "cell_type": "code",
   "execution_count": 51,
   "metadata": {
    "collapsed": false
   },
   "outputs": [
    {
     "data": {
      "text/plain": [
       "array([ 0.86275621,  0.85758079,  0.83741382,  0.87615153])"
      ]
     },
     "execution_count": 51,
     "metadata": {},
     "output_type": "execute_result"
    }
   ],
   "source": [
    "cross_val_score(model2, x, y, cv=kf, scoring='r2')"
   ]
  },
  {
   "cell_type": "code",
   "execution_count": 63,
   "metadata": {
    "collapsed": false
   },
   "outputs": [
    {
     "data": {
      "text/plain": [
       "array([-11.63430981, -13.27899719, -15.12878154, -17.661352  ])"
      ]
     },
     "execution_count": 63,
     "metadata": {},
     "output_type": "execute_result"
    }
   ],
   "source": [
    "cross_val_score(model2, x, y, cv=kf, scoring='neg_mean_squared_error')"
   ]
  },
  {
   "cell_type": "markdown",
   "metadata": {},
   "source": [
    "# cross_val_predict"
   ]
  },
  {
   "cell_type": "code",
   "execution_count": 52,
   "metadata": {
    "collapsed": false
   },
   "outputs": [],
   "source": [
    "y_pred = cross_val_predict(model2, x, y, cv=kf)"
   ]
  },
  {
   "cell_type": "code",
   "execution_count": 53,
   "metadata": {
    "collapsed": false
   },
   "outputs": [
    {
     "data": {
      "image/png": "[encoded data removed]",
      "text/plain": [
       "<matplotlib.figure.Figure at 0x7f0f4e9869b0>"
      ]
     },
     "metadata": {},
     "output_type": "display_data"
    }
   ],
   "source": [
    "plt.scatter(x,y,color=\"k\")\n",
    "plt.scatter(x,y_pred,marker=\"o\",color=\"g\",s=100)\n",
    "plt.show();"
   ]
  },
  {
   "cell_type": "code",
   "execution_count": null,
   "metadata": {
    "collapsed": true
   },
   "outputs": [],
   "source": []
  }
 ],
 "metadata": {
  "kernelspec": {
   "display_name": "Python 3",
   "language": "python",
   "name": "python3"
  },
  "language_info": {
   "codemirror_mode": {
    "name": "ipython",
    "version": 3
   },
   "file_extension": ".py",
   "mimetype": "text/x-python",
   "name": "python",
   "nbconvert_exporter": "python",
   "pygments_lexer": "ipython3",
   "version": "3.6.0"
  }
 },
 "nbformat": 4,
 "nbformat_minor": 2
}
