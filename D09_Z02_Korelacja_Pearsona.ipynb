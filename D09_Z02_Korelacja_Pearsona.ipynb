{
 "cells": [
  {
   "cell_type": "code",
   "execution_count": 1,
   "metadata": {
    "collapsed": true
   },
   "outputs": [],
   "source": [
    "import numpy as np\n",
    "from scipy import stats\n",
    "import pandas as pd\n",
    "import matplotlib.pyplot as plt"
   ]
  },
  {
   "cell_type": "markdown",
   "metadata": {},
   "source": [
    "# Korelacja"
   ]
  },
  {
   "cell_type": "markdown",
   "metadata": {},
   "source": [
    "Współczynnik korelacji między dwiema zmiennymi odpowiada na pytanie: \n",
    "\n",
    "<i>Czy dwie zmienne są powiązane? </i> \n",
    "\n",
    "## Współczynnik korelacji Pearsona \n",
    "\n",
    "Współczynnik korelacji Pearsona - współczynnik określający poziom zależności liniowej między zmiennymi losowymi.\n",
    "\n",
    "## Korelacja rang Spearmana \n",
    "\n",
    "Korelacja rang Spearmana (lub: korelacja rangowa Spearmana, rho Spearmana) – jedna z nieparametrycznych miar monotonicznej zależności statystycznej między zmiennymi losowymi.\n",
    "\n",
    "Korelacja rangowa przyjmuje zawsze wartości z przedziału $[-1,+1]$. Ich interpretacja jest podobna do klasycznego współczynnika korelacji Pearsona, z jednym zastrzeżeniem: \n",
    "- w odróżnieniu od współczynnika Pearsona, który mierzy liniową zależność między zmiennymi, a wszelkie inne związki traktuje jak zaburzone zależności liniowe, korelacja rangowa pokazuje dowolną monotoniczną zależność (także nieliniową).\n",
    "\n",
    "## Korelacja Tau Kendalla \n",
    "\n",
    "Tau Kendalla – statystyka będąca jedną z miar monotonicznej zależności dwóch zmiennych losowych. Służy w praktyce do opisu korelacji między zmiennymi porządkowymi.\n",
    "\n",
    "Tau Kendalla przyjmuje wartości od -1 do 1 włącznie. +1 oznacza, że każda ze zmiennych rośnie przy wzroście drugiej. -1 oznacza że każda maleje przy wzroście drugiej. Tym samym tau Kendalla, podobnie jak korelacja rangowa jest miarą monotonicznej zależności zmiennych losowych."
   ]
  },
  {
   "cell_type": "markdown",
   "metadata": {},
   "source": [
    "# Zadanie 1 \n",
    "Policz korelacje: \n",
    "<ul>\n",
    "<li>pearson</li>\n",
    "<li>spearman</li>\n",
    "<li>kendall</li>\n",
    "</ul>\n",
    "\n",
    "dla zbioru:"
   ]
  },
  {
   "cell_type": "code",
   "execution_count": 2,
   "metadata": {
    "collapsed": true
   },
   "outputs": [],
   "source": [
    "f = lambda x: (x)\n",
    "x_tr = np.linspace(0., 5, 200)\n",
    "y_tr = f(x_tr)\n",
    "x = stats.uniform(1,3).rvs(100)\n",
    "y = f(x) + stats.norm(0,0.1).rvs(len(x))"
   ]
  },
  {
   "cell_type": "code",
   "execution_count": 3,
   "metadata": {
    "collapsed": false
   },
   "outputs": [
    {
     "data": {
      "image/png": "[encoded data removed]",
      "text/plain": [
       "<matplotlib.figure.Figure at 0x7f8b47ce2be0>"
      ]
     },
     "metadata": {},
     "output_type": "display_data"
    }
   ],
   "source": [
    "plt.figure(figsize=(6,6));\n",
    "axes = plt.gca()\n",
    "axes.set_xlim([0,5])\n",
    "axes.set_ylim([0,5])\n",
    "plt.plot(x_tr, y_tr, '--k');\n",
    "plt.plot(x, y, 'ok', ms=3);\n",
    "plt.show()"
   ]
  },
  {
   "cell_type": "code",
   "execution_count": 4,
   "metadata": {
    "collapsed": false
   },
   "outputs": [
    {
     "name": "stdout",
     "output_type": "stream",
     "text": [
      "{'pearson': 0.99389105208468653, 'spearman': 0.99375937593759367, 'kendall': 0.9349494949494952}\n"
     ]
    }
   ],
   "source": [
    "corr = {}\n",
    "corr['pearson'], _ = stats.pearsonr(x,y)\n",
    "corr['spearman'], _ = stats.spearmanr(x,y)\n",
    "corr['kendall'], _ = stats.kendalltau(x,y)\n",
    "print(corr)    "
   ]
  },
  {
   "cell_type": "markdown",
   "metadata": {},
   "source": [
    "# Zadanie 2 \n",
    "Policz korelacje: \n",
    "<ul>\n",
    "<li>pearson</li>\n",
    "<li>spearman</li>\n",
    "<li>kendall</li>\n",
    "</ul>\n",
    "\n",
    "dla zbioru:"
   ]
  },
  {
   "cell_type": "code",
   "execution_count": 5,
   "metadata": {
    "collapsed": true
   },
   "outputs": [],
   "source": [
    "f = lambda x: (-x+5)\n",
    "x_tr = np.linspace(0., 5, 200)\n",
    "y_tr = f(x_tr)\n",
    "x = stats.uniform(1,3).rvs(100)\n",
    "y = f(x) + stats.norm(0,0.1).rvs(len(x))"
   ]
  },
  {
   "cell_type": "code",
   "execution_count": 6,
   "metadata": {
    "collapsed": false
   },
   "outputs": [
    {
     "data": {
      "image/png": "[encoded data removed]",
      "text/plain": [
       "<matplotlib.figure.Figure at 0x7f8b4539b550>"
      ]
     },
     "metadata": {},
     "output_type": "display_data"
    }
   ],
   "source": [
    "plt.figure(figsize=(6,6));\n",
    "axes = plt.gca()\n",
    "axes.set_xlim([0,5])\n",
    "axes.set_ylim([0,5])\n",
    "plt.plot(x_tr, y_tr, '--k');\n",
    "plt.plot(x, y, 'ok', ms=3);\n",
    "plt.show()"
   ]
  },
  {
   "cell_type": "code",
   "execution_count": 7,
   "metadata": {
    "collapsed": false
   },
   "outputs": [
    {
     "name": "stdout",
     "output_type": "stream",
     "text": [
      "{'pearson': -0.99081625756559166, 'spearman': -0.99071107110711054, 'kendall': -0.92565656565656584}\n"
     ]
    }
   ],
   "source": [
    "corr = {}\n",
    "corr['pearson'], _ = stats.pearsonr(x,y)\n",
    "corr['spearman'], _ = stats.spearmanr(x,y)\n",
    "corr['kendall'], _ = stats.kendalltau(x,y)\n",
    "print(corr)   "
   ]
  },
  {
   "cell_type": "markdown",
   "metadata": {},
   "source": [
    "# Zadanie 3\n",
    "Policz korelacje: \n",
    "<ul>\n",
    "<li>pearson</li>\n",
    "<li>spearman</li>\n",
    "<li>kendall</li>\n",
    "</ul>\n",
    "\n",
    "dla zbioru:"
   ]
  },
  {
   "cell_type": "code",
   "execution_count": 8,
   "metadata": {
    "collapsed": false
   },
   "outputs": [],
   "source": [
    "f = lambda x: (x)\n",
    "x_tr = np.linspace(0., 5, 200)\n",
    "y_tr = f(x_tr)\n",
    "x = stats.uniform(1,3).rvs(100)\n",
    "y = f(x) + stats.norm(0,1).rvs(len(x))"
   ]
  },
  {
   "cell_type": "code",
   "execution_count": 9,
   "metadata": {
    "collapsed": false
   },
   "outputs": [
    {
     "data": {
      "image/png": "[encoded data removed]",
      "text/plain": [
       "<matplotlib.figure.Figure at 0x7f8b45336908>"
      ]
     },
     "metadata": {},
     "output_type": "display_data"
    }
   ],
   "source": [
    "plt.figure(figsize=(6,6));\n",
    "axes = plt.gca()\n",
    "axes.set_xlim([0,5])\n",
    "axes.set_ylim([0,5])\n",
    "plt.plot(x_tr, y_tr, '--k');\n",
    "plt.plot(x, y, 'ok', ms=3);\n",
    "plt.show()"
   ]
  },
  {
   "cell_type": "code",
   "execution_count": 10,
   "metadata": {
    "collapsed": false
   },
   "outputs": [
    {
     "name": "stdout",
     "output_type": "stream",
     "text": [
      "{'pearson': 0.63884310199567895, 'spearman': 0.62231023102310223, 'kendall': 0.44161616161616168}\n"
     ]
    }
   ],
   "source": [
    "corr = {}\n",
    "corr['pearson'], _ = stats.pearsonr(x,y)\n",
    "corr['spearman'], _ = stats.spearmanr(x,y)\n",
    "corr['kendall'], _ = stats.kendalltau(x,y)\n",
    "print(corr)   "
   ]
  },
  {
   "cell_type": "markdown",
   "metadata": {},
   "source": [
    "# Zadanie 4\n",
    "Policz korelacje: \n",
    "<ul>\n",
    "<li>pearson</li>\n",
    "<li>spearman</li>\n",
    "<li>kendall</li>\n",
    "</ul>\n",
    "\n",
    "dla zbioru:"
   ]
  },
  {
   "cell_type": "code",
   "execution_count": 11,
   "metadata": {
    "collapsed": false
   },
   "outputs": [],
   "source": [
    "f = lambda x: ((x-4)*(x-2)*(x-3))\n",
    "x_tr = np.linspace(0., 5, 200)\n",
    "y_tr = f(x_tr)\n",
    "x = stats.uniform(1,3).rvs(100)\n",
    "y = f(x) + stats.norm(0,0.3).rvs(len(x))"
   ]
  },
  {
   "cell_type": "code",
   "execution_count": 12,
   "metadata": {
    "collapsed": false
   },
   "outputs": [
    {
     "data": {
      "image/png": "[encoded data removed]",
      "text/plain": [
       "<matplotlib.figure.Figure at 0x7f8b45028cc0>"
      ]
     },
     "metadata": {},
     "output_type": "display_data"
    }
   ],
   "source": [
    "plt.figure(figsize=(6,6));\n",
    "axes = plt.gca()\n",
    "axes.set_xlim([0,5])\n",
    "axes.set_ylim([np.min(y),f(5)])\n",
    "plt.plot(x_tr, y_tr, '--k');\n",
    "plt.plot(x, y, 'ok', ms=3);\n",
    "plt.show()"
   ]
  },
  {
   "cell_type": "code",
   "execution_count": 13,
   "metadata": {
    "collapsed": false
   },
   "outputs": [
    {
     "name": "stdout",
     "output_type": "stream",
     "text": [
      "{'pearson': 0.62846150181653015, 'spearman': 0.40308430843084297, 'kendall': 0.28848484848484857}\n"
     ]
    }
   ],
   "source": [
    "corr = {}\n",
    "corr['pearson'], _ = stats.pearsonr(x,y)\n",
    "corr['spearman'], _ = stats.spearmanr(x,y)\n",
    "corr['kendall'], _ = stats.kendalltau(x,y)\n",
    "print(corr)   "
   ]
  },
  {
   "cell_type": "markdown",
   "metadata": {},
   "source": [
    "# Zadanie 5\n",
    "Wygeneruj zbiór tak by \n",
    "<ul>\n",
    "<li>korelacja pearsona wynosiła około 0.5</li>\n",
    "<li>korelacja spearmana wynosiła około 1</li>\n",
    "<li>korelacja kendalla wynosiła około 1</li>\n",
    "</ul>"
   ]
  },
  {
   "cell_type": "code",
   "execution_count": 14,
   "metadata": {
    "collapsed": true
   },
   "outputs": [],
   "source": [
    "f = lambda x: (x**20)\n",
    "x_tr = np.linspace(0., 5, 200)\n",
    "y_tr = f(x_tr)\n",
    "x = stats.uniform(1,3).rvs(100)\n",
    "y = f(x) + stats.norm(0,0.3).rvs(len(x))"
   ]
  },
  {
   "cell_type": "code",
   "execution_count": 15,
   "metadata": {
    "collapsed": false
   },
   "outputs": [
    {
     "name": "stdout",
     "output_type": "stream",
     "text": [
      "{'pearson': 0.56380469696110924, 'spearman': 0.99999999999999989, 'kendall': 1.0000000000000002}\n"
     ]
    }
   ],
   "source": [
    "corr = {}\n",
    "corr['pearson'], _ = stats.pearsonr(x,y)\n",
    "corr['spearman'], _ = stats.spearmanr(x,y)\n",
    "corr['kendall'], _ = stats.kendalltau(x,y)\n",
    "print(corr)  "
   ]
  },
  {
   "cell_type": "code",
   "execution_count": 16,
   "metadata": {
    "collapsed": false
   },
   "outputs": [
    {
     "data": {
      "image/png": "[encoded data removed]",
      "text/plain": [
       "<matplotlib.figure.Figure at 0x7f8b45336e10>"
      ]
     },
     "metadata": {},
     "output_type": "display_data"
    }
   ],
   "source": [
    "plt.figure(figsize=(6,6));\n",
    "axes = plt.gca()\n",
    "axes.set_xlim([0,5])\n",
    "axes.set_ylim([np.min(y),f(5)])\n",
    "plt.plot(x_tr, y_tr, '--k');\n",
    "plt.plot(x, y, 'ok', ms=3);\n",
    "plt.show()"
   ]
  },
  {
   "cell_type": "code",
   "execution_count": null,
   "metadata": {
    "collapsed": true
   },
   "outputs": [],
   "source": []
  }
 ],
 "metadata": {
  "kernelspec": {
   "display_name": "Python 3",
   "language": "python",
   "name": "python3"
  },
  "language_info": {
   "codemirror_mode": {
    "name": "ipython",
    "version": 3
   },
   "file_extension": ".py",
   "mimetype": "text/x-python",
   "name": "python",
   "nbconvert_exporter": "python",
   "pygments_lexer": "ipython3",
   "version": "3.6.0"
  }
 },
 "nbformat": 4,
 "nbformat_minor": 2
}
